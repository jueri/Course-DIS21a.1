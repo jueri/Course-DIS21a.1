{
  "nbformat": 4,
  "nbformat_minor": 0,
  "metadata": {
    "colab": {
      "name": "TensorBasics.ipynb",
      "provenance": [],
      "collapsed_sections": []
    },
    "kernelspec": {
      "display_name": "Python 3",
      "language": "python",
      "name": "python3"
    },
    "language_info": {
      "codemirror_mode": {
        "name": "ipython",
        "version": 3
      },
      "file_extension": ".py",
      "mimetype": "text/x-python",
      "name": "python",
      "nbconvert_exporter": "python",
      "pygments_lexer": "ipython3",
      "version": "3.7.7"
    }
  },
  "cells": [
    {
      "cell_type": "markdown",
      "metadata": {
        "id": "24xwc9ekpZp9"
      },
      "source": [
        "<img src=\"https://www.th-koeln.de/img/logo.svg\" style=\"float: right;\" width=\"200\">"
      ]
    },
    {
      "cell_type": "markdown",
      "metadata": {
        "id": "RmaWrT5bpZp_"
      },
      "source": [
        "# 1st exercise: <font color=\"#C70039\">Getting Started with Tensors</font>\n",
        "* Course: DIS21a.1\n",
        "* Lecturer: <a href=\"https://www.gernotheisenberg.de/\">Gernot Heisenberg</a>\n",
        "* Author of notebook: <a href=\"https://www.gernotheisenberg.de/\">Gernot Heisenberg</a>\n",
        "<br>\n",
        "\n",
        "* Student name: Jüri Keller\n",
        "* Student matriculation number: 11133325\n",
        "* Date: 30.10.2020\n",
        "\n",
        "<img src=\"https://www.kdnuggets.com/wp-content/uploads/scalar-vector-matrix-tensor.jpg\" style=\"float: center;\" width=\"450\">\n",
        "\n",
        "---------------------------------\n",
        "**GENERAL NOTE 1**: \n",
        "Please make sure you are reading the entire notebook, since it contains a lot of information on your tasks (e.g. regarding the set of certain paramaters or a specific computational trick), and the written mark downs as well as comments contain a lot of information on how things work together as a whole. \n",
        "\n",
        "**GENERAL NOTE 2**: \n",
        "* Please, when commenting source code, just use English language only. \n",
        "* When describing an observation (for instance, after you have run through your test plan) you may use German language.\n",
        "This applies to all exercises in DIS 21a.1.  \n",
        "\n",
        "---------------------\n",
        "\n",
        "### <font color=\"ce33ff\">DESCRIPTION</font>:\n",
        "This notebook allows you for getting into tensors, as the most important mathematical concept in machine learning, as well as operations for and with tensors. This includes point-wise operations as well as slicing and reshaping. Besides, you will improve your python coding skills.\n",
        "\n",
        "-------------------------------------------------------------------------------------------------------------\n",
        "\n",
        "### <font color=\"FFC300\">TASKS</font>:\n",
        "The tasks that you need to work on within this notebook are always indicated below as bullet points. \n",
        "If a task is more challenging and consists of several steps, this is indicated as well. \n",
        "Make sure you have worked down the task list and commented your doings. \n",
        "This should be done by using markdown.<br> \n",
        "<font color=red>Make sure you don't forget to specify your name and your matriculation number in the notebook before submitting it.</font>\n",
        "\n",
        "**YOUR TASKS in this exercise are as follows**:\n",
        "1. import the notebook to Google Colab.\n",
        "    * of course you may use your local machine, too.\n",
        "2. make sure you specified you name and your matriculation number in the header below my name and date. \n",
        "    * set the date too and remove mine.\n",
        "3. read the entire notebook carefully \n",
        "    * add comments whereever you feel it necessary for better understanding\n",
        "    * run the notebook for the first time. \n",
        "4. take a random function in python and create the following: (the number of elements is up to you [except for the 0D tensor of course :-)]).\n",
        "    * 0D tensor\n",
        "    * 1D tensor\n",
        "    * 2D tensor\n",
        "    * 3D tensor\n",
        "5. print out the rank and the shape. \n",
        "6. visualize a batch of 20 images from the MNIST data set (randomly chosen).\n",
        "7. shift a window of 15x15 pixels through one of these images (starting in the uper left corner) and visualize it.\n",
        "    * shift the 15x15 window always one pixel to the right until you get to the end of the image and then move down. Visualize every image after the shift. \n",
        "8. reshape one image to 56x14 and visualize it again \n",
        "    * Describe what happened to the tensor entries!!!\n",
        "9. How would the image look alike when your reshape it to (784,1)?\n",
        "\n",
        "-----------------------------------------------------------------------------------"
      ]
    },
    {
      "cell_type": "code",
      "metadata": {
        "id": "iM8WuDD_Ibaw",
        "outputId": "332ae6bc-9c74-4d6d-9b4f-e42c821fbe40",
        "colab": {
          "base_uri": "https://localhost:8080/"
        }
      },
      "source": [
        "# this is a scalar or a 0D tensor (zero-dim tensor)\n",
        "# a 0D tensor is a tensor of rank 0\n",
        "import numpy as np\n",
        "scalar = np.array(13)\n",
        "scalar"
      ],
      "execution_count": null,
      "outputs": [
        {
          "output_type": "execute_result",
          "data": {
            "text/plain": [
              "array(13)"
            ]
          },
          "metadata": {
            "tags": []
          },
          "execution_count": 10
        }
      ]
    },
    {
      "cell_type": "code",
      "metadata": {
        "id": "fPyb59dsI77Q",
        "outputId": "f46f8af5-512a-4745-b7f2-ee8a36390576",
        "colab": {
          "base_uri": "https://localhost:8080/"
        }
      },
      "source": [
        "print('A scalar is of rank %d' %(scalar.ndim)) # ndim delivers the rank of a tensor"
      ],
      "execution_count": null,
      "outputs": [
        {
          "output_type": "stream",
          "text": [
            "A scalar is of rank 0\n"
          ],
          "name": "stdout"
        }
      ]
    },
    {
      "cell_type": "markdown",
      "metadata": {
        "id": "BQTSmxKQJ9Cs"
      },
      "source": [
        "the rank of a tensor is also often reffered to as the axis of the tensor. Hence the axis of a scalar, a 0D-tensor is zero\n",
        "\n",
        "```\n",
        "# Als Code formatiert\n",
        "```\n",
        "\n"
      ]
    },
    {
      "cell_type": "code",
      "metadata": {
        "id": "-NhgY0WNj_fi",
        "outputId": "b8aadfee-088f-445d-a243-3d81d1952283",
        "colab": {
          "base_uri": "https://localhost:8080/"
        }
      },
      "source": [
        "# this is a vector or a 1D tensor \n",
        "# a 1D tensor is a tensor of rank 1 with 1 axis.\n",
        "vector = np.array([11,12,13,14,15])\n",
        "vector\n"
      ],
      "execution_count": null,
      "outputs": [
        {
          "output_type": "execute_result",
          "data": {
            "text/plain": [
              "array([11, 12, 13, 14, 15])"
            ]
          },
          "metadata": {
            "tags": []
          },
          "execution_count": 13
        }
      ]
    },
    {
      "cell_type": "code",
      "metadata": {
        "id": "E9jK-fbfkYCa",
        "outputId": "b41bf657-4ce7-4439-f817-812697817e1d",
        "colab": {
          "base_uri": "https://localhost:8080/"
        }
      },
      "source": [
        "print('A vector is of rank %d' %(vector.ndim)) # ndim delivers the rank of a tensor"
      ],
      "execution_count": null,
      "outputs": [
        {
          "output_type": "stream",
          "text": [
            "A vector is of rank 1\n"
          ],
          "name": "stdout"
        }
      ]
    },
    {
      "cell_type": "code",
      "metadata": {
        "id": "BjPMr6MrlU71",
        "outputId": "4ccbff68-82cb-443a-a06e-7535c67e5c7a",
        "colab": {
          "base_uri": "https://localhost:8080/"
        }
      },
      "source": [
        "# this is a matrix or a 2D tensor \n",
        "# a 2D tensor is a tensor of rank 2 with 2 axes.\n",
        "mat = np.array([[1,2,3,4,5],\n",
        "               [11,12,13,14,15],\n",
        "               [21,22,23,24,25]])\n",
        "mat"
      ],
      "execution_count": null,
      "outputs": [
        {
          "output_type": "execute_result",
          "data": {
            "text/plain": [
              "array([[ 1,  2,  3,  4,  5],\n",
              "       [11, 12, 13, 14, 15],\n",
              "       [21, 22, 23, 24, 25]])"
            ]
          },
          "metadata": {
            "tags": []
          },
          "execution_count": 15
        }
      ]
    },
    {
      "cell_type": "code",
      "metadata": {
        "id": "mUP_U6Iql4TU",
        "outputId": "4d12ddba-4bb9-4271-9589-cfc12f20a76f",
        "colab": {
          "base_uri": "https://localhost:8080/"
        }
      },
      "source": [
        "print('A matrix is of rank %d' %(mat.ndim)) # ndim delivers the rank of a tensor"
      ],
      "execution_count": null,
      "outputs": [
        {
          "output_type": "stream",
          "text": [
            "A matrix is of rank 2\n"
          ],
          "name": "stdout"
        }
      ]
    },
    {
      "cell_type": "markdown",
      "metadata": {
        "id": "f9uuhSHBmaD-"
      },
      "source": [
        "the entries from the first axis are the \"rows\"\n",
        "the entris from the second axis are the \"columns\""
      ]
    },
    {
      "cell_type": "code",
      "metadata": {
        "id": "AcIoul_xnTy9",
        "outputId": "59344828-dfc0-419a-b076-4b408cd93a0c",
        "colab": {
          "base_uri": "https://localhost:8080/"
        }
      },
      "source": [
        "# this is a slightly bigger matrix\n",
        "mat2 = np.array([[1,2,3,4,5],\n",
        "               [11,12,13,14,15],\n",
        "               [21,22,23,24,25],\n",
        "               [31,32,33,34,35],\n",
        "               [41,42,43,44,45]])\n",
        "\n",
        "print('This matrix is of rank %d, too' %(mat2.ndim)) # rank or axes refer to rows and columns"
      ],
      "execution_count": null,
      "outputs": [
        {
          "output_type": "stream",
          "text": [
            "This matrix is of rank 2, too\n"
          ],
          "name": "stdout"
        }
      ]
    },
    {
      "cell_type": "code",
      "metadata": {
        "id": "hN9652rYzRtI",
        "outputId": "10b576c9-7e0f-4ee7-80b2-e963c64f498b",
        "colab": {
          "base_uri": "https://localhost:8080/"
        }
      },
      "source": [
        "# this is a cube or a 3D tensor \n",
        "# a 3D tensor is a tensor of rank 3 with 3 axes.\n",
        "cube = np.array([[[1,2,3,4,5],\n",
        "               [11,12,13,14,15],\n",
        "               [21,22,23,24,25]],\n",
        "               [[6,7,8,9,10],\n",
        "               [16,17,18,19,20],\n",
        "               [26,27,28,29,30]],\n",
        "               [[100,200,300,400,500],\n",
        "               [110,120,130,140,150],\n",
        "               [2121,2221,2321,2421,2521]]])\n",
        "cube"
      ],
      "execution_count": null,
      "outputs": [
        {
          "output_type": "execute_result",
          "data": {
            "text/plain": [
              "array([[[   1,    2,    3,    4,    5],\n",
              "        [  11,   12,   13,   14,   15],\n",
              "        [  21,   22,   23,   24,   25]],\n",
              "\n",
              "       [[   6,    7,    8,    9,   10],\n",
              "        [  16,   17,   18,   19,   20],\n",
              "        [  26,   27,   28,   29,   30]],\n",
              "\n",
              "       [[ 100,  200,  300,  400,  500],\n",
              "        [ 110,  120,  130,  140,  150],\n",
              "        [2121, 2221, 2321, 2421, 2521]]])"
            ]
          },
          "metadata": {
            "tags": []
          },
          "execution_count": 18
        }
      ]
    },
    {
      "cell_type": "code",
      "metadata": {
        "id": "yfj1xvQl1YFP",
        "outputId": "6b928eab-2339-4a6c-cb25-f28761a69bfd",
        "colab": {
          "base_uri": "https://localhost:8080/"
        }
      },
      "source": [
        "print('This cube is of rank %d' %(cube.ndim)) # rank or axes refer to rows and columns and depth"
      ],
      "execution_count": null,
      "outputs": [
        {
          "output_type": "stream",
          "text": [
            "This cube is of rank 3\n"
          ],
          "name": "stdout"
        }
      ]
    },
    {
      "cell_type": "code",
      "metadata": {
        "id": "4Tt7nb_V2zq2",
        "outputId": "cd3af235-a59f-4751-db81-5ba6ada392d6",
        "colab": {
          "base_uri": "https://localhost:8080/"
        }
      },
      "source": [
        "# shape of scalar\n",
        "scalar.shape"
      ],
      "execution_count": null,
      "outputs": [
        {
          "output_type": "execute_result",
          "data": {
            "text/plain": [
              "()"
            ]
          },
          "metadata": {
            "tags": []
          },
          "execution_count": 20
        }
      ]
    },
    {
      "cell_type": "code",
      "metadata": {
        "id": "PlWRD2UA25yX",
        "outputId": "cffb3830-8da6-4f54-adbc-ecbb96946669",
        "colab": {
          "base_uri": "https://localhost:8080/"
        }
      },
      "source": [
        "# shape of vector\n",
        "vector.shape"
      ],
      "execution_count": null,
      "outputs": [
        {
          "output_type": "execute_result",
          "data": {
            "text/plain": [
              "(5,)"
            ]
          },
          "metadata": {
            "tags": []
          },
          "execution_count": 21
        }
      ]
    },
    {
      "cell_type": "code",
      "metadata": {
        "id": "troB_GQyogVe",
        "outputId": "ad4b964d-73d7-41f4-f1aa-2ba786befe5d",
        "colab": {
          "base_uri": "https://localhost:8080/"
        }
      },
      "source": [
        "# so what is the difference between mat and mat2??\n",
        "# -> it is the shape of the matrices\n",
        "# the 'shape' delivers how  many dimensions the tensor has got along each axis\n",
        "print('The shape of matrix mat is ')\n",
        "mat.shape"
      ],
      "execution_count": null,
      "outputs": [
        {
          "output_type": "stream",
          "text": [
            "The shape of matrix mat is \n"
          ],
          "name": "stdout"
        },
        {
          "output_type": "execute_result",
          "data": {
            "text/plain": [
              "(3, 5)"
            ]
          },
          "metadata": {
            "tags": []
          },
          "execution_count": 23
        }
      ]
    },
    {
      "cell_type": "code",
      "metadata": {
        "id": "2E6q-eX6o7jU",
        "outputId": "6bb7f6e0-e34d-425c-e2fb-fd9bb65c8742",
        "colab": {
          "base_uri": "https://localhost:8080/"
        }
      },
      "source": [
        "print('The shape of matrix mat2 is ')\n",
        "mat2.shape"
      ],
      "execution_count": null,
      "outputs": [
        {
          "output_type": "stream",
          "text": [
            "The shape of matrix mat2 is \n"
          ],
          "name": "stdout"
        },
        {
          "output_type": "execute_result",
          "data": {
            "text/plain": [
              "(5, 5)"
            ]
          },
          "metadata": {
            "tags": []
          },
          "execution_count": 25
        }
      ]
    },
    {
      "cell_type": "code",
      "metadata": {
        "id": "ST63jWB73DKn",
        "outputId": "df278716-4f64-44e8-db37-a2813d558845",
        "colab": {
          "base_uri": "https://localhost:8080/"
        }
      },
      "source": [
        "# shape of cube\n",
        "cube.shape"
      ],
      "execution_count": null,
      "outputs": [
        {
          "output_type": "execute_result",
          "data": {
            "text/plain": [
              "(3, 3, 5)"
            ]
          },
          "metadata": {
            "tags": []
          },
          "execution_count": 26
        }
      ]
    },
    {
      "cell_type": "markdown",
      "metadata": {
        "id": "tgjnQa2celFp"
      },
      "source": [
        "_________________________________________________________\n",
        "This sections deals with more complex shapes and tensors\n",
        "_________________________________________________________"
      ]
    },
    {
      "cell_type": "code",
      "metadata": {
        "id": "d762d8lHekDH"
      },
      "source": [
        "#imports\n",
        "from tensorflow.keras.datasets import mnist\n",
        "import matplotlib.pyplot as plt\n",
        "\n",
        "# load data set, that is split already into a training and testing set\n",
        "(train_images, train_labels), (test_images, test_labels) = mnist.load_data()"
      ],
      "execution_count": null,
      "outputs": []
    },
    {
      "cell_type": "code",
      "metadata": {
        "id": "V6RelWy8giJi",
        "outputId": "f469d566-4b0b-4a82-b0d2-0a38dd2ebc1d",
        "colab": {
          "base_uri": "https://localhost:8080/"
        }
      },
      "source": [
        "print(train_images.shape)\n",
        "print(train_images.dtype)\n",
        "print(train_images.ndim)"
      ],
      "execution_count": null,
      "outputs": [
        {
          "output_type": "stream",
          "text": [
            "(60000, 28, 28)\n",
            "uint8\n",
            "3\n"
          ],
          "name": "stdout"
        }
      ]
    },
    {
      "cell_type": "code",
      "metadata": {
        "id": "M2PHQCOMfnwH",
        "outputId": "9cda0df8-9579-4d76-e7c2-105057a12f20",
        "colab": {
          "base_uri": "https://localhost:8080/",
          "height": 265
        }
      },
      "source": [
        "trainimage_picked = train_images[666] # pick image at index 666 from the training data set\n",
        "plt.imshow(trainimage_picked, cmap=plt.cm.binary)\n",
        "plt.show()"
      ],
      "execution_count": null,
      "outputs": [
        {
          "output_type": "display_data",
          "data": {
            "image/png": "[encoded data removed]",
            "text/plain": [
              "<Figure size 432x288 with 1 Axes>"
            ]
          },
          "metadata": {
            "tags": [],
            "needs_background": "light"
          }
        }
      ]
    },
    {
      "cell_type": "markdown",
      "metadata": {
        "id": "_zva-oGukO1q"
      },
      "source": [
        "______________________________________________________________\n",
        "Sometimes is it useful just to take parts/slices of data sets. Here is how to slice tensors. \n",
        "We just take a slice (often denoted as a batch) of 90 images,\n",
        "from index 10 to 99. **NOTE** that all three ways of slicing result\n",
        "in the same.\n",
        "______________________________________________________________"
      ]
    },
    {
      "cell_type": "code",
      "metadata": {
        "id": "tOpXrfeNjpW1",
        "outputId": "7edf6748-6e0e-4d49-cbf4-7edcbdffceb3",
        "colab": {
          "base_uri": "https://localhost:8080/"
        }
      },
      "source": [
        "my_slice = train_images[10:100, 0:28, 0:28]\n",
        "my_slice.shape"
      ],
      "execution_count": null,
      "outputs": [
        {
          "output_type": "execute_result",
          "data": {
            "text/plain": [
              "(90, 28, 28)"
            ]
          },
          "metadata": {
            "tags": []
          },
          "execution_count": 38
        }
      ]
    },
    {
      "cell_type": "code",
      "metadata": {
        "id": "7hvb6dhhkaDy",
        "outputId": "067589e0-187b-4632-97d2-c589c94a6068",
        "colab": {
          "base_uri": "https://localhost:8080/"
        }
      },
      "source": [
        "my_slice = train_images[10:100, :, :]\n",
        "my_slice.shape"
      ],
      "execution_count": null,
      "outputs": [
        {
          "output_type": "execute_result",
          "data": {
            "text/plain": [
              "(90, 28, 28)"
            ]
          },
          "metadata": {
            "tags": []
          },
          "execution_count": 39
        }
      ]
    },
    {
      "cell_type": "code",
      "metadata": {
        "id": "b4IAgIT-kdzl",
        "outputId": "bb1ffa20-b6ee-474e-e93c-de50b313a893",
        "colab": {
          "base_uri": "https://localhost:8080/"
        }
      },
      "source": [
        "my_slice = train_images[10:100]\n",
        "print(my_slice.shape)"
      ],
      "execution_count": null,
      "outputs": [
        {
          "output_type": "stream",
          "text": [
            "(90, 28, 28)\n"
          ],
          "name": "stdout"
        }
      ]
    },
    {
      "cell_type": "code",
      "metadata": {
        "id": "mNgo-FBlmEKl",
        "outputId": "f98f42d1-3bc4-4665-9f7f-cdf1a222cd86",
        "colab": {
          "base_uri": "https://localhost:8080/"
        }
      },
      "source": [
        "# also parts of images can be extracted by slicing the other axes of the tensor\n",
        "my_slice = train_images[10:100, 14:, 14:] # this takes the bottom-right corner of each of the 90 images\n",
        "print(my_slice.shape)"
      ],
      "execution_count": null,
      "outputs": [
        {
          "output_type": "stream",
          "text": [
            "(90, 14, 14)\n"
          ],
          "name": "stdout"
        }
      ]
    },
    {
      "cell_type": "code",
      "metadata": {
        "id": "3-xQ2RNgmm9z",
        "outputId": "59caa5f1-a051-4a4a-ac04-4644b0f766a3",
        "colab": {
          "base_uri": "https://localhost:8080/"
        }
      },
      "source": [
        "# by using a negative index, you slice out the center piece.\n",
        "my_slice = train_images[10:100, 7:-7, 7:-7]\n",
        "print(my_slice.shape)"
      ],
      "execution_count": null,
      "outputs": [
        {
          "output_type": "stream",
          "text": [
            "(90, 14, 14)\n"
          ],
          "name": "stdout"
        }
      ]
    },
    {
      "cell_type": "markdown",
      "metadata": {
        "id": "IbkiKZHxpZrI"
      },
      "source": [
        "_________________________________________________________\n",
        "This sections deals with reshaping of tensors\n",
        "_________________________________________________________"
      ]
    },
    {
      "cell_type": "code",
      "metadata": {
        "id": "06ndozzRkoyI",
        "outputId": "116f08cd-c1a6-4219-f88e-24429568c942",
        "colab": {
          "base_uri": "https://localhost:8080/"
        }
      },
      "source": [
        "my_tensor = np.array([[0., 1.], [20., 30.], [400., 500.]])\n",
        "print(\"The shape of my_tensor is:\", my_tensor.shape)\n",
        "my_tensor"
      ],
      "execution_count": null,
      "outputs": [
        {
          "output_type": "stream",
          "text": [
            "The shape of my_tensor is: (3, 2)\n"
          ],
          "name": "stdout"
        },
        {
          "output_type": "execute_result",
          "data": {
            "text/plain": [
              "array([[  0.,   1.],\n",
              "       [ 20.,  30.],\n",
              "       [400., 500.]])"
            ]
          },
          "metadata": {
            "tags": []
          },
          "execution_count": 43
        }
      ]
    },
    {
      "cell_type": "code",
      "metadata": {
        "id": "s_m1gUnclI4k",
        "outputId": "071cfbe7-1e63-4f51-a312-bc414e9f9514",
        "colab": {
          "base_uri": "https://localhost:8080/"
        }
      },
      "source": [
        "my_tensor=my_tensor.reshape((6,1))\n",
        "print(\"The shape of my_tensor is:\", my_tensor.shape)\n",
        "my_tensor"
      ],
      "execution_count": null,
      "outputs": [
        {
          "output_type": "stream",
          "text": [
            "The shape of my_tensor is: (6, 1)\n"
          ],
          "name": "stdout"
        },
        {
          "output_type": "execute_result",
          "data": {
            "text/plain": [
              "array([[  0.],\n",
              "       [  1.],\n",
              "       [ 20.],\n",
              "       [ 30.],\n",
              "       [400.],\n",
              "       [500.]])"
            ]
          },
          "metadata": {
            "tags": []
          },
          "execution_count": 44
        }
      ]
    },
    {
      "cell_type": "code",
      "metadata": {
        "id": "rElHtv0klffF",
        "outputId": "9b57ac79-ef40-428b-918e-6d2f6bcae6c8",
        "colab": {
          "base_uri": "https://localhost:8080/"
        }
      },
      "source": [
        "my_tensor=my_tensor.reshape((2,3))\n",
        "print(\"The shape of my_tensor is:\", my_tensor.shape)\n",
        "my_tensor"
      ],
      "execution_count": null,
      "outputs": [
        {
          "output_type": "stream",
          "text": [
            "The shape of my_tensor is: (2, 3)\n"
          ],
          "name": "stdout"
        },
        {
          "output_type": "execute_result",
          "data": {
            "text/plain": [
              "array([[  0.,   1.,  20.],\n",
              "       [ 30., 400., 500.]])"
            ]
          },
          "metadata": {
            "tags": []
          },
          "execution_count": 45
        }
      ]
    },
    {
      "cell_type": "code",
      "metadata": {
        "id": "wFGYu-49njRE",
        "outputId": "08ea832d-962a-47e7-aed3-ff0915476c0c",
        "colab": {
          "base_uri": "https://localhost:8080/"
        }
      },
      "source": [
        "print(\"Shape of train_images after loading\", train_images.shape)\n",
        "print(\"rank=\",train_images.ndim)\n"
      ],
      "execution_count": null,
      "outputs": [
        {
          "output_type": "stream",
          "text": [
            "Shape of train_images after loading (60000, 28, 28)\n",
            "rank= 3\n"
          ],
          "name": "stdout"
        }
      ]
    },
    {
      "cell_type": "code",
      "metadata": {
        "id": "_zR_Jc05oAKk",
        "outputId": "f2be1752-c559-480e-d648-8aad2f044ac1",
        "colab": {
          "base_uri": "https://localhost:8080/"
        }
      },
      "source": [
        "train_images = train_images.reshape((60000,28*28))\n",
        "print(\"Shape of train_images after reshaping\", train_images.shape)\n"
      ],
      "execution_count": null,
      "outputs": [
        {
          "output_type": "stream",
          "text": [
            "Shape of train_images after reshaping (60000, 784)\n"
          ],
          "name": "stdout"
        }
      ]
    },
    {
      "cell_type": "markdown",
      "metadata": {
        "id": "zjEhfP3WpZrS"
      },
      "source": [
        "--------------------------\n",
        "### <font color=\"#C70039\">here starts your coding section</font>"
      ]
    },
    {
      "cell_type": "markdown",
      "metadata": {
        "id": "bTGo7oAZ13JR"
      },
      "source": [
        "### 4.  take a random function in python and create the following:\n",
        "- 0D tensor\n",
        "- 1D tensor\n",
        "- 2D tensor\n",
        "- 3D tensor"
      ]
    },
    {
      "cell_type": "code",
      "metadata": {
        "id": "gbj7ctGqpZrS"
      },
      "source": [
        "def generateTensor(dimensions):\n",
        "  def generateArray():\n",
        "    return np.array([np.random.randint(0,1000) for i in range(0,10)])\n",
        "\n",
        "  if dimensions > 0:\n",
        "    out = []\n",
        "    while dimensions > 0:\n",
        "      out.append(generateArray())\n",
        "      dimensions -=1\n",
        "    return np.array(out)\n",
        "\n",
        "\n",
        "  else:\n",
        "    return np.array(np.random.randint(0,1000))\n",
        "\n",
        "# 0D tensor\n",
        "scalar = np.array(np.random.randint(0,1000))\n",
        "\n",
        "# 1D tensor\n",
        "vector = np.array([np.random.randint(0,1000) for x in range(0,10)])\n",
        "\n",
        "# 2D tensor\n",
        "matrix = np.array([[np.random.randint(0,1000) for x in range(0,10)] for y in range(0,10)])\n",
        "\n",
        "# 3D tensor\n",
        "cube = np.array([[[np.random.randint(0,1000) for x in range(0,3)] for y in range(0,3)] for z in range(0,3)])\n"
      ],
      "execution_count": 6,
      "outputs": []
    },
    {
      "cell_type": "code",
      "metadata": {
        "id": "wYmpkYddrrwP",
        "outputId": "2477ca28-b8b9-439c-b056-9a926972372a",
        "colab": {
          "base_uri": "https://localhost:8080/"
        }
      },
      "source": [
        "s = np.array([\n",
        "[\n",
        "  [\n",
        "    [99, 525, 414],\n",
        "    [99, 525, 414],\n",
        "    [99, 525, 414]\n",
        "  ],\n",
        "  [\n",
        "    [99, 525, 414],\n",
        "    [99, 525, 414],\n",
        "    [99, 525, 414]\n",
        "  ],\n",
        "  [\n",
        "    [99, 525, 414],\n",
        "    [99, 525, 414],\n",
        "    [99, 525, 414]\n",
        "  ],\n",
        "],\n",
        "[\n",
        "  [\n",
        "    [99, 525, 414],\n",
        "    [99, 525, 414],\n",
        "    [99, 525, 414]\n",
        "  ],\n",
        "  [\n",
        "    [99, 525, 414],\n",
        "    [99, 525, 414],\n",
        "    [99, 525, 414]\n",
        "  ],\n",
        "  [\n",
        "    [99, 525, 414],\n",
        "    [99, 525, 414],\n",
        "    [99, 525, 414]\n",
        "  ],\n",
        "],\n",
        "[\n",
        "  [\n",
        "    [99, 525, 414],\n",
        "    [99, 525, 414],\n",
        "    [99, 525, 414]\n",
        "  ],\n",
        "  [\n",
        "    [99, 525, 414],\n",
        "    [99, 525, 414],\n",
        "    [99, 525, 414]\n",
        "  ],\n",
        "  [\n",
        "    [99, 525, 414],\n",
        "    [99, 525, 414],\n",
        "    [99, 525, 414]\n",
        "  ],\n",
        "]\n",
        "])\n",
        "\n",
        "print(s.shape)\n",
        "print(s.ndim)"
      ],
      "execution_count": 51,
      "outputs": [
        {
          "output_type": "stream",
          "text": [
            "(3, 3, 3, 3)\n",
            "4\n"
          ],
          "name": "stdout"
        }
      ]
    },
    {
      "cell_type": "code",
      "metadata": {
        "id": "1rpjpMYfsCXJ",
        "outputId": "702a88c0-8cff-414d-baeb-e8995d2ada47",
        "colab": {
          "base_uri": "https://localhost:8080/"
        }
      },
      "source": [
        "s = np.arange(9).reshape(3,3)\n",
        "s = s.reshape(3,3)\n",
        "print(s)\n",
        "print(s.shape)\n",
        "print(s.ndim)"
      ],
      "execution_count": 85,
      "outputs": [
        {
          "output_type": "stream",
          "text": [
            "[[0 1 2]\n",
            " [3 4 5]\n",
            " [6 7 8]]\n",
            "(3, 3)\n",
            "2\n"
          ],
          "name": "stdout"
        }
      ]
    },
    {
      "cell_type": "code",
      "metadata": {
        "id": "63_747p9rmPg",
        "outputId": "5543ced2-27ab-4186-8442-80018444041e",
        "colab": {
          "base_uri": "https://localhost:8080/"
        }
      },
      "source": [
        "array = np.arange(27)\n",
        "array"
      ],
      "execution_count": 75,
      "outputs": [
        {
          "output_type": "execute_result",
          "data": {
            "text/plain": [
              "array([ 0,  1,  2,  3,  4,  5,  6,  7,  8,  9, 10, 11, 12, 13, 14, 15, 16,\n",
              "       17, 18, 19, 20, 21, 22, 23, 24, 25, 26])"
            ]
          },
          "metadata": {
            "tags": []
          },
          "execution_count": 75
        }
      ]
    },
    {
      "cell_type": "markdown",
      "metadata": {
        "id": "k6KJ3FaD82R9"
      },
      "source": [
        "### 5. print out the rank and the shape:"
      ]
    },
    {
      "cell_type": "code",
      "metadata": {
        "id": "N9gEyqD_3Gdd",
        "outputId": "de868cad-b601-4f08-bcaa-fd9e2ad33d70",
        "colab": {
          "base_uri": "https://localhost:8080/"
        }
      },
      "source": [
        "print('0D tensor:')\n",
        "print('Rank: %d' %(scalar.ndim))\n",
        "print('Shape:')\n",
        "scalar.shape"
      ],
      "execution_count": null,
      "outputs": [
        {
          "output_type": "stream",
          "text": [
            "0D tensor:\n",
            "Rank: 0\n",
            "Shape:\n"
          ],
          "name": "stdout"
        },
        {
          "output_type": "execute_result",
          "data": {
            "text/plain": [
              "()"
            ]
          },
          "metadata": {
            "tags": []
          },
          "execution_count": 117
        }
      ]
    },
    {
      "cell_type": "code",
      "metadata": {
        "id": "SZCtPJae-lIm",
        "outputId": "921337e3-d1e5-486a-c2b3-49da61194984",
        "colab": {
          "base_uri": "https://localhost:8080/"
        }
      },
      "source": [
        "print('1D tensor:')\n",
        "print('Rank: %d' %(vector.ndim))\n",
        "print('Shape:')\n",
        "vector.shape"
      ],
      "execution_count": null,
      "outputs": [
        {
          "output_type": "stream",
          "text": [
            "1D tensor:\n",
            "Rank: 1\n",
            "Shape:\n"
          ],
          "name": "stdout"
        },
        {
          "output_type": "execute_result",
          "data": {
            "text/plain": [
              "(10,)"
            ]
          },
          "metadata": {
            "tags": []
          },
          "execution_count": 118
        }
      ]
    },
    {
      "cell_type": "code",
      "metadata": {
        "id": "CB9RCpZb-lUs",
        "outputId": "e7d0be53-b643-46af-f2be-b5b12bcd65a1",
        "colab": {
          "base_uri": "https://localhost:8080/"
        }
      },
      "source": [
        "print('2D tensor:')\n",
        "print('Rank: %d' %(matrix.ndim))\n",
        "print('Shape:')\n",
        "matrix.shape"
      ],
      "execution_count": null,
      "outputs": [
        {
          "output_type": "stream",
          "text": [
            "2D tensor:\n",
            "Rank: 2\n",
            "Shape:\n"
          ],
          "name": "stdout"
        },
        {
          "output_type": "execute_result",
          "data": {
            "text/plain": [
              "(10, 10)"
            ]
          },
          "metadata": {
            "tags": []
          },
          "execution_count": 119
        }
      ]
    },
    {
      "cell_type": "code",
      "metadata": {
        "id": "9IgrOG8D-lq5",
        "outputId": "e8c8c1a7-28d0-4a6d-bcc5-b5958e20e19f",
        "colab": {
          "base_uri": "https://localhost:8080/"
        }
      },
      "source": [
        "print('3D tensor:')\n",
        "print('Rank: %d' %(cube.ndim))\n",
        "print('Shape:')\n",
        "cube.shape"
      ],
      "execution_count": null,
      "outputs": [
        {
          "output_type": "stream",
          "text": [
            "3D tensor:\n",
            "Rank: 3\n",
            "Shape:\n"
          ],
          "name": "stdout"
        },
        {
          "output_type": "execute_result",
          "data": {
            "text/plain": [
              "(10, 10, 10)"
            ]
          },
          "metadata": {
            "tags": []
          },
          "execution_count": 120
        }
      ]
    },
    {
      "cell_type": "markdown",
      "metadata": {
        "id": "ebJ4H_7-9USC"
      },
      "source": [
        "\n",
        "### 6. Visualize a batch of 20 images from the MNIST data set (randomly chosen):\n"
      ]
    },
    {
      "cell_type": "code",
      "metadata": {
        "id": "YTHg1h5Y9Ug8",
        "outputId": "5c92d775-2661-4953-f7e7-60a03eafb522",
        "colab": {
          "base_uri": "https://localhost:8080/",
          "height": 485
        }
      },
      "source": [
        "\n",
        "#imports\n",
        "from tensorflow.keras.datasets import mnist\n",
        "import matplotlib.pyplot as plt\n",
        "\n",
        "(train_images, train_labels), (test_images, test_labels) = mnist.load_data()\n",
        "\n",
        "fig=plt.figure(figsize=(8, 8))\n",
        "columns = 4\n",
        "rows = 5\n",
        "\n",
        "for i in range(1,columns*rows +1):\n",
        "  trainimage_picked = train_images[np.random.randint(0,len(train_images))]\n",
        "  fig.add_subplot(rows, columns, i)\n",
        "  plt.imshow(trainimage_picked, cmap=plt.cm.binary)\n",
        "plt.show()\n"
      ],
      "execution_count": null,
      "outputs": [
        {
          "output_type": "display_data",
          "data": {
            "image/png": "[encoded data removed]",
            "text/plain": [
              "<Figure size 576x576 with 20 Axes>"
            ]
          },
          "metadata": {
            "tags": [],
            "needs_background": "light"
          }
        }
      ]
    },
    {
      "cell_type": "markdown",
      "metadata": {
        "id": "3NSKvco4_J-r"
      },
      "source": [
        "### 7. Shift a window of 15x15 pixels through one of these images (starting in the uper left corner) and visualize it.\n",
        "- shift the 15x15 window always one pixel to the right until you get to the end of the image and then move down. Visualize every image after the shift.\n"
      ]
    },
    {
      "cell_type": "code",
      "metadata": {
        "id": "cWZ21906_6Vo",
        "outputId": "9e11c580-2441-4078-c658-daa1dd16cb23",
        "colab": {
          "base_uri": "https://localhost:8080/"
        }
      },
      "source": [
        "x = 15\n",
        "trainimage_picked = train_images[np.random.randint(0,len(train_images))]\n",
        "\n",
        "start = 0\n",
        "stop = 15\n",
        "for i in len(trainimage_picked):\n",
        "  trainimage_picked[start:stop, start:stop].shape\n",
        "  "
      ],
      "execution_count": null,
      "outputs": [
        {
          "output_type": "execute_result",
          "data": {
            "text/plain": [
              "(15, 15)"
            ]
          },
          "metadata": {
            "tags": []
          },
          "execution_count": 149
        }
      ]
    },
    {
      "cell_type": "code",
      "metadata": {
        "id": "ekFNLUdMEROx",
        "outputId": "37a059f8-c0d3-4bdc-8b5a-3160378fb72b",
        "colab": {
          "base_uri": "https://localhost:8080/"
        }
      },
      "source": [
        "len(trainimage_picked)"
      ],
      "execution_count": null,
      "outputs": [
        {
          "output_type": "execute_result",
          "data": {
            "text/plain": [
              "28"
            ]
          },
          "metadata": {
            "tags": []
          },
          "execution_count": 150
        }
      ]
    },
    {
      "cell_type": "markdown",
      "metadata": {
        "id": "T3ka4Ld5_KEO"
      },
      "source": [
        "### 8. Reshape one image to 56x14 and visualize it again\n",
        "- Describe what happened to the tensor entries!!!\n"
      ]
    },
    {
      "cell_type": "markdown",
      "metadata": {
        "id": "C1ULvy1c_KJF"
      },
      "source": [
        "### 9. How would the image look alike when your reshape it to (784,1)?"
      ]
    },
    {
      "cell_type": "code",
      "metadata": {
        "id": "hMGVQ1l7D3u_"
      },
      "source": [
        ""
      ],
      "execution_count": null,
      "outputs": []
    }
  ]
}