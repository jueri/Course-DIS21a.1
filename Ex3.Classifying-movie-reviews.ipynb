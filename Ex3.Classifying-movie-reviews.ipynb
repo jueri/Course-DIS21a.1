{
  "nbformat": 4,
  "nbformat_minor": 0,
  "metadata": {
    "kernelspec": {
      "display_name": "Python 3",
      "language": "python",
      "name": "python3"
    },
    "language_info": {
      "codemirror_mode": {
        "name": "ipython",
        "version": 3
      },
      "file_extension": ".py",
      "mimetype": "text/x-python",
      "name": "python",
      "nbconvert_exporter": "python",
      "pygments_lexer": "ipython3",
      "version": "3.7.7"
    },
    "colab": {
      "name": "Ex3.Classifying-movie-reviews.ipynb",
      "provenance": []
    },
    "accelerator": "TPU"
  },
  "cells": [
    {
      "cell_type": "markdown",
      "metadata": {
        "id": "mQASuQk4HvUh"
      },
      "source": [
        "<img src=\"https://www.th-koeln.de/img/logo.svg\" style=\"float: right;\" width=\"200\">"
      ]
    },
    {
      "cell_type": "markdown",
      "metadata": {
        "id": "veHxtTqcHvUh"
      },
      "source": [
        "# 3rd exercise: <font color=\"#C70039\">Binary sentiment classification with IMDB movie reviews</font>\n",
        "* Course: DIS21a.1\n",
        "* Lecturer: <a href=\"https://www.gernotheisenberg.de/\">Gernot Heisenberg</a>\n",
        "* Author of notebook modifications and adaptations: <a href=\"https://www.gernotheisenberg.de/\">Gernot Heisenberg</a>\n",
        "* Date:   26.11.2020\n",
        "\n",
        "* Student Name: Jüri Keller\n",
        "* Matriculation number: 11133325\n",
        "\n",
        "<img src=\"https://brand24.com/blog/wp-content/uploads/2017/04/Screen-Shot-2017-04-12-at-16.24.20.png\" style=\"float: center;\" width=\"200\">\n",
        "\n",
        "**GENERAL NOTE 1**: \n",
        "Please make sure you are reading the entire notebook, since it contains a lot of information on your tasks (e.g. regarding the set of certain paramaters or a specific computational trick), and the written mark downs as well as comments contain a lot of information on how things work together as a whole. \n",
        "\n",
        "**GENERAL NOTE 2**: \n",
        "* Please, when commenting source code, just use English language only. \n",
        "* When describing an observation (for instance, after you have run through your test plan) you may use German language.\n",
        "This applies to all exercises in DIS 21a.1.  \n",
        "\n",
        "--------------------\n",
        "\n",
        "### <font color=\"ce33ff\">DESCRIPTION</font>:\n",
        "This notebook allows you for a binary classification (two classes only). You will classify movie reviews into \"positive\" reviews and \"negative\" reviews, just based on the text content of the reviews.\n",
        "\n",
        "The **IMDB** dataset is a set of 50,000 highly-polarized reviews from the Internet Movie Database. They are split into 25,000 reviews for training and 25,000 reviews for testing, each set consisting in 50% negative and 50% positive reviews.\n",
        "The IMDB dataset comes packaged with Keras. It has already been preprocessed: the reviews (sequences of words) \n",
        "have been turned into sequences of integers, where each integer stands for a specific word in a dictionary.\n",
        "\n",
        "-----------------------\n",
        "\n",
        "### <font color=\"FFC300\">TASKS</font>:\n",
        "The tasks that you need to work on in this notebook are always indicated below as bullet points. \n",
        "If a task is more challenging and consists of several steps, this is indicated as well. \n",
        "Make sure you have worked down the task list and commented your doings. \n",
        "This should be done by using markdown.<br> \n",
        "<font color=red>Make sure you don't forget to specify your name and your matriculation number in the notebook before submitting it.</font>\n",
        "\n",
        "**YOUR TASKS in this exercise are as follows**:\n",
        "1. import the notebook to Google Colab.\n",
        "2. make sure you specified you name and your matriculation number in the header below my name and date.\n",
        "    * set the date too and remove mine.\n",
        "3. read the entire notebook carefully\n",
        "    * add comments whereever you feel it necessary for better understanding\n",
        "    * run the notebook for the first time and note the result in your markdown result table (your test plan). \n",
        "4. go into the section 'building the ANN' \n",
        "    * add the missing code that does create a network as shown in the image in the lecture slides on page 166 (File: 'DIS21a.1-7.HANDS_ON.First.DLNetwork.Architectures.for.Solving.Three.Interesting.Problems.pdf')\n",
        "    * set the activation function to ReLu\n",
        "    * set the correct activation function in the last layer (the output layer). What is correct?\n",
        "5. stay in the 'building the ANN' section again\n",
        "    * add the missing code for compiling the network by setting\n",
        "        * the loss function\n",
        "        * the optimizer\n",
        "        * the evaluation metric (little hint: is the label distribution balanced ?)\n",
        "6. take less training data and rerun the network\n",
        "    * add the size of the training data as a column in the table and note the accuracy you achieve\n",
        "7. take less testing data and rerun the network\n",
        "    * add the size of the testing data as a column in the table and note the accuracy you achieve\n",
        "8. increase/decrease the number of epochs and the batch size \n",
        "    * add those hyperparameters as columns in the table and note the accuracy you achieve\n",
        "9. make combinations of this according to your testplan. Make sure you combine with sense and intelligence and not just chaotically.\n",
        "10. comment your observations\n",
        "    * when is the accuracy increasing / decreasing\n",
        "11. until now there were 2 hidden layers. Try to use 1 or 3 hidden layers and see how it affects the test accuracy. Use again a little table. Describe your observations.\n",
        "12. Try to use layers with more hidden units or less hidden units: 32 units, 64 units, 128 units ...! What effect can you observe?\n",
        "13. Try to use the `mse` loss function instead of `binary_crossentropy`. What effect can you observe?\n",
        "14. Try to use the `tanh` activation (an activation that was popular in the early days of neural networks) instead of `relu`. What effect can you observe?"
      ]
    },
    {
      "cell_type": "markdown",
      "metadata": {
        "id": "oxmYWheNHvUh"
      },
      "source": [
        "\n",
        "## START OF THE NOTEBOOK CODE\n",
        "----------------------------------------------------------------------------------------------------------------------"
      ]
    },
    {
      "cell_type": "code",
      "metadata": {
        "colab": {
          "base_uri": "https://localhost:8080/"
        },
        "id": "b_nneZg-HvUh",
        "outputId": "656c84d7-1093-42f1-c978-e35051f0afa1"
      },
      "source": [
        "#tensorflow and keras (implicit)\n",
        "import tensorflow\n",
        "tensorflow.keras.__version__"
      ],
      "execution_count": 94,
      "outputs": [
        {
          "output_type": "execute_result",
          "data": {
            "text/plain": [
              "'2.4.0'"
            ]
          },
          "metadata": {
            "tags": []
          },
          "execution_count": 94
        }
      ]
    },
    {
      "cell_type": "markdown",
      "metadata": {
        "id": "lV1AQm5rHvUi"
      },
      "source": [
        "### loading the IMDB movie review data set\n",
        "This code loads the dataset (when you run it for the first time on a local machine, about 80MB of data will be downloaded into the memory):"
      ]
    },
    {
      "cell_type": "code",
      "metadata": {
        "id": "kYryj_nEHvUi"
      },
      "source": [
        "from tensorflow.keras.datasets import imdb\n",
        "\n",
        "(train_data, train_labels), (test_data, test_labels) = imdb.load_data(num_words=10000)"
      ],
      "execution_count": 95,
      "outputs": []
    },
    {
      "cell_type": "markdown",
      "metadata": {
        "id": "h-B81kC0HvUi"
      },
      "source": [
        "\n",
        "The argument `num_words=10000` means that we will only keep the top 10,000 most frequently occurring words in the training data. Rare words \n",
        "will be discarded. This allows us to work with vector data of manageable size.\n",
        "\n",
        "The variables `train_data` and `test_data` are lists of reviews, each review being a list of word indices (encoding a sequence of words). \n",
        "`train_labels` and `test_labels` are lists of 0s and 1s, where 0 stands for \"negative\" and 1 stands for \"positive\":"
      ]
    },
    {
      "cell_type": "code",
      "metadata": {
        "colab": {
          "base_uri": "https://localhost:8080/"
        },
        "id": "c8tf6KX7HvUi",
        "outputId": "44140e35-1bdd-402a-f979-219bd4b09a17"
      },
      "source": [
        "train_data[0]"
      ],
      "execution_count": 96,
      "outputs": [
        {
          "output_type": "execute_result",
          "data": {
            "text/plain": [
              "[1,\n",
              " 14,\n",
              " 22,\n",
              " 16,\n",
              " 43,\n",
              " 530,\n",
              " 973,\n",
              " 1622,\n",
              " 1385,\n",
              " 65,\n",
              " 458,\n",
              " 4468,\n",
              " 66,\n",
              " 3941,\n",
              " 4,\n",
              " 173,\n",
              " 36,\n",
              " 256,\n",
              " 5,\n",
              " 25,\n",
              " 100,\n",
              " 43,\n",
              " 838,\n",
              " 112,\n",
              " 50,\n",
              " 670,\n",
              " 2,\n",
              " 9,\n",
              " 35,\n",
              " 480,\n",
              " 284,\n",
              " 5,\n",
              " 150,\n",
              " 4,\n",
              " 172,\n",
              " 112,\n",
              " 167,\n",
              " 2,\n",
              " 336,\n",
              " 385,\n",
              " 39,\n",
              " 4,\n",
              " 172,\n",
              " 4536,\n",
              " 1111,\n",
              " 17,\n",
              " 546,\n",
              " 38,\n",
              " 13,\n",
              " 447,\n",
              " 4,\n",
              " 192,\n",
              " 50,\n",
              " 16,\n",
              " 6,\n",
              " 147,\n",
              " 2025,\n",
              " 19,\n",
              " 14,\n",
              " 22,\n",
              " 4,\n",
              " 1920,\n",
              " 4613,\n",
              " 469,\n",
              " 4,\n",
              " 22,\n",
              " 71,\n",
              " 87,\n",
              " 12,\n",
              " 16,\n",
              " 43,\n",
              " 530,\n",
              " 38,\n",
              " 76,\n",
              " 15,\n",
              " 13,\n",
              " 1247,\n",
              " 4,\n",
              " 22,\n",
              " 17,\n",
              " 515,\n",
              " 17,\n",
              " 12,\n",
              " 16,\n",
              " 626,\n",
              " 18,\n",
              " 2,\n",
              " 5,\n",
              " 62,\n",
              " 386,\n",
              " 12,\n",
              " 8,\n",
              " 316,\n",
              " 8,\n",
              " 106,\n",
              " 5,\n",
              " 4,\n",
              " 2223,\n",
              " 5244,\n",
              " 16,\n",
              " 480,\n",
              " 66,\n",
              " 3785,\n",
              " 33,\n",
              " 4,\n",
              " 130,\n",
              " 12,\n",
              " 16,\n",
              " 38,\n",
              " 619,\n",
              " 5,\n",
              " 25,\n",
              " 124,\n",
              " 51,\n",
              " 36,\n",
              " 135,\n",
              " 48,\n",
              " 25,\n",
              " 1415,\n",
              " 33,\n",
              " 6,\n",
              " 22,\n",
              " 12,\n",
              " 215,\n",
              " 28,\n",
              " 77,\n",
              " 52,\n",
              " 5,\n",
              " 14,\n",
              " 407,\n",
              " 16,\n",
              " 82,\n",
              " 2,\n",
              " 8,\n",
              " 4,\n",
              " 107,\n",
              " 117,\n",
              " 5952,\n",
              " 15,\n",
              " 256,\n",
              " 4,\n",
              " 2,\n",
              " 7,\n",
              " 3766,\n",
              " 5,\n",
              " 723,\n",
              " 36,\n",
              " 71,\n",
              " 43,\n",
              " 530,\n",
              " 476,\n",
              " 26,\n",
              " 400,\n",
              " 317,\n",
              " 46,\n",
              " 7,\n",
              " 4,\n",
              " 2,\n",
              " 1029,\n",
              " 13,\n",
              " 104,\n",
              " 88,\n",
              " 4,\n",
              " 381,\n",
              " 15,\n",
              " 297,\n",
              " 98,\n",
              " 32,\n",
              " 2071,\n",
              " 56,\n",
              " 26,\n",
              " 141,\n",
              " 6,\n",
              " 194,\n",
              " 7486,\n",
              " 18,\n",
              " 4,\n",
              " 226,\n",
              " 22,\n",
              " 21,\n",
              " 134,\n",
              " 476,\n",
              " 26,\n",
              " 480,\n",
              " 5,\n",
              " 144,\n",
              " 30,\n",
              " 5535,\n",
              " 18,\n",
              " 51,\n",
              " 36,\n",
              " 28,\n",
              " 224,\n",
              " 92,\n",
              " 25,\n",
              " 104,\n",
              " 4,\n",
              " 226,\n",
              " 65,\n",
              " 16,\n",
              " 38,\n",
              " 1334,\n",
              " 88,\n",
              " 12,\n",
              " 16,\n",
              " 283,\n",
              " 5,\n",
              " 16,\n",
              " 4472,\n",
              " 113,\n",
              " 103,\n",
              " 32,\n",
              " 15,\n",
              " 16,\n",
              " 5345,\n",
              " 19,\n",
              " 178,\n",
              " 32]"
            ]
          },
          "metadata": {
            "tags": []
          },
          "execution_count": 96
        }
      ]
    },
    {
      "cell_type": "code",
      "metadata": {
        "colab": {
          "base_uri": "https://localhost:8080/"
        },
        "id": "qMTwexQRHvUi",
        "outputId": "0c47f0c5-f069-4859-fb5c-910a0a2cd2ce"
      },
      "source": [
        "train_labels[0]"
      ],
      "execution_count": 97,
      "outputs": [
        {
          "output_type": "execute_result",
          "data": {
            "text/plain": [
              "1"
            ]
          },
          "metadata": {
            "tags": []
          },
          "execution_count": 97
        }
      ]
    },
    {
      "cell_type": "markdown",
      "metadata": {
        "id": "Sr_p5bjIHvUi"
      },
      "source": [
        "Since we restricted ourselves to the top 10,000 most frequent words, no word index will exceed 10,000:"
      ]
    },
    {
      "cell_type": "code",
      "metadata": {
        "colab": {
          "base_uri": "https://localhost:8080/"
        },
        "id": "gXgYaJMwHvUi",
        "outputId": "70d208ed-1e32-4d9a-eff4-ad89b0242c32"
      },
      "source": [
        "max([max(sequence) for sequence in train_data])"
      ],
      "execution_count": 98,
      "outputs": [
        {
          "output_type": "execute_result",
          "data": {
            "text/plain": [
              "9999"
            ]
          },
          "metadata": {
            "tags": []
          },
          "execution_count": 98
        }
      ]
    },
    {
      "cell_type": "markdown",
      "metadata": {
        "id": "2-j9TqT3HvUi"
      },
      "source": [
        "### data preparation\n",
        "\n",
        "Since lists of integers cannot be fed into a neural network, the lists need to be turned into tensors by one-hot-encoding ( vectors of 0s and 1s). This means for instance turning the sequence `[3, 5]` into a 10000-dimensional vector, that would be all-zeros except for indices 3 and 5, which would be ones. Then use as first layer in the network a `Dense` layer, capable of handling floating point vector data."
      ]
    },
    {
      "cell_type": "code",
      "metadata": {
        "id": "dIkhfKMDHvUi"
      },
      "source": [
        "import numpy as np\n",
        "\n",
        "def vectorize_sequences(sequences, dimension=10000):\n",
        "    # Create an all-zero matrix of shape (len(sequences), dimension)\n",
        "    results = np.zeros((len(sequences), dimension))\n",
        "    for i, sequence in enumerate(sequences):\n",
        "        results[i, sequence] = 1.  # set specific indices of results[i] to 1s\n",
        "    return results\n",
        "\n",
        "# Our vectorized training data\n",
        "x_train = vectorize_sequences(train_data)\n",
        "# Our vectorized test data\n",
        "x_test = vectorize_sequences(test_data)"
      ],
      "execution_count": 99,
      "outputs": []
    },
    {
      "cell_type": "markdown",
      "metadata": {
        "id": "fR6ThuD9HvUi"
      },
      "source": [
        "Here's what our samples look like now:"
      ]
    },
    {
      "cell_type": "code",
      "metadata": {
        "colab": {
          "base_uri": "https://localhost:8080/"
        },
        "id": "U6KklMnSHvUi",
        "outputId": "a00d4acd-2d4a-40b8-9c0e-95203d687ed2"
      },
      "source": [
        "x_train[0]"
      ],
      "execution_count": 100,
      "outputs": [
        {
          "output_type": "execute_result",
          "data": {
            "text/plain": [
              "array([0., 1., 1., ..., 0., 0., 0.])"
            ]
          },
          "metadata": {
            "tags": []
          },
          "execution_count": 100
        }
      ]
    },
    {
      "cell_type": "markdown",
      "metadata": {
        "id": "Dr3Qxt7YHvUi"
      },
      "source": [
        "Vectorizing the labels too, which is straightforward:"
      ]
    },
    {
      "cell_type": "code",
      "metadata": {
        "id": "cKM3MNq_HvUi"
      },
      "source": [
        "# Our vectorized labels\n",
        "y_train = np.asarray(train_labels).astype('float32')\n",
        "y_test = np.asarray(test_labels).astype('float32')"
      ],
      "execution_count": 101,
      "outputs": []
    },
    {
      "cell_type": "markdown",
      "metadata": {
        "id": "sMkr3L2GHvUi"
      },
      "source": [
        "### building the ANN\n",
        "\n",
        "Now the data is ready to be fed into a neural network. The input data is simply vectors, and the labels are scalars (1s and 0s): this is the easiest setup you will ever encounter.\n",
        "A type of network that performs well on such a problem would be a simple stack of fully-connected (`Dense`) layers as you have learned in the lectures. \n",
        "The final output layer will use a special activation so as to output a probability, that is a score between 0 and 1, indicating how likely the sample is to have the target \"1\", i.e. how likely the review is to be positive.\n",
        "\n",
        "The implementation is very similar to what you have learned from the MNIST example from the earlier exercise."
      ]
    },
    {
      "cell_type": "code",
      "metadata": {
        "id": "pknPdNfYHvUi"
      },
      "source": [
        "# necessary inputs\n",
        "from tensorflow.keras import models\n",
        "from tensorflow.keras import layers"
      ],
      "execution_count": 102,
      "outputs": []
    },
    {
      "cell_type": "code",
      "metadata": {
        "id": "rT5fCZJWHvUi"
      },
      "source": [
        "model = models.Sequential()\n",
        "model.add(layers.Dense(10000, activation='relu', input_shape=(10000,)))\n",
        "model.add(layers.Dense(16, activation='relu'))\n",
        "model.add(layers.Dense(16, activation='relu'))\n",
        "model.add(layers.Dense(1, activation='sigmoid'))"
      ],
      "execution_count": 103,
      "outputs": []
    },
    {
      "cell_type": "markdown",
      "metadata": {
        "id": "4sL0CsznHvUi"
      },
      "source": [
        "At last, a loss function and an optimizer needs to be specified.\n",
        "Since this is a binary classification problem and the output of our network is a probability it is best to use the `binary_crossentropy` loss. It isn't the only viable choice: you could use, for instance, `mean_squared_error`. But crossentropy is usually the best choice when you are dealing with models that output probabilities. \n",
        "Crossentropy is a quantity from the field of Information Theory, that measures the \"distance\" \n",
        "between probability distributions, or in our case, between the actual distribution (ground-truth) and the predictions.\n",
        "\n",
        "In addition, since the problem is class-balanced, what do you think can be used as evaluation metric? Is there a special metric that is used when the classification task is binary?\n",
        "\n",
        "The network can be configured with the `rmsprop` optimizer, since it always does a good job. "
      ]
    },
    {
      "cell_type": "code",
      "metadata": {
        "id": "gbFJKdg0HvUi"
      },
      "source": [
        "from tensorflow.keras import optimizers\n",
        "from tensorflow.keras import losses\n",
        "from tensorflow.keras import metrics\n",
        "\n",
        "model.compile(optimizer=optimizers.RMSprop(learning_rate=0.001),loss='binary_crossentropy',metrics=['accuracy'])"
      ],
      "execution_count": 104,
      "outputs": []
    },
    {
      "cell_type": "markdown",
      "metadata": {
        "id": "zzEr8jkGHvUi"
      },
      "source": [
        "--------------------"
      ]
    },
    {
      "cell_type": "markdown",
      "metadata": {
        "collapsed": true,
        "id": "wK6vcxZfHvUi"
      },
      "source": [
        "### training the ANN\n",
        "Let's train the model for 4 epochs (4 iterations over all samples in the `x_train` and `y_train` tensors), in mini-batches of 512 samples."
      ]
    },
    {
      "cell_type": "code",
      "metadata": {
        "colab": {
          "base_uri": "https://localhost:8080/"
        },
        "id": "7p1LZwD5HvUi",
        "outputId": "acb1b17b-9070-4505-d4b3-9245774198b5"
      },
      "source": [
        "history = model.fit(x_train, y_train, epochs=4, batch_size=512) # compare to the one from MNIST !!!"
      ],
      "execution_count": 105,
      "outputs": [
        {
          "output_type": "stream",
          "text": [
            "Epoch 1/4\n",
            "49/49 [==============================] - 41s 841ms/step - loss: 0.5019 - accuracy: 0.7414\n",
            "Epoch 2/4\n",
            "49/49 [==============================] - 41s 832ms/step - loss: 0.2568 - accuracy: 0.8915\n",
            "Epoch 3/4\n",
            "49/49 [==============================] - 41s 834ms/step - loss: 0.1860 - accuracy: 0.9255\n",
            "Epoch 4/4\n",
            "49/49 [==============================] - 40s 826ms/step - loss: 0.1107 - accuracy: 0.9576\n"
          ],
          "name": "stdout"
        }
      ]
    },
    {
      "cell_type": "markdown",
      "metadata": {
        "id": "mqSCc-t5HvUi"
      },
      "source": [
        "On CPU of a local machine (not on Google Colab), this will take less than two seconds per epoch -- training is over in 9 seconds."
      ]
    },
    {
      "cell_type": "markdown",
      "metadata": {
        "id": "OMshSnnZHvUi"
      },
      "source": [
        "Note that the call to `model.fit()` returns a `history` object. This object has a member `history`, which is a dictionary containing data about everything that happened during training. Let's use it to output some info on the metrics used."
      ]
    },
    {
      "cell_type": "code",
      "metadata": {
        "colab": {
          "base_uri": "https://localhost:8080/"
        },
        "id": "cCSJEhG7HvUi",
        "outputId": "d7d4cf1e-5e5f-428a-80c7-3b81bbf1db23"
      },
      "source": [
        "history_dict = history.history\n",
        "history_dict.keys()"
      ],
      "execution_count": 106,
      "outputs": [
        {
          "output_type": "execute_result",
          "data": {
            "text/plain": [
              "dict_keys(['loss', 'accuracy'])"
            ]
          },
          "metadata": {
            "tags": []
          },
          "execution_count": 106
        }
      ]
    },
    {
      "cell_type": "markdown",
      "metadata": {
        "id": "RGiRLoleHvUi"
      },
      "source": [
        "### evaluate the model"
      ]
    },
    {
      "cell_type": "code",
      "metadata": {
        "colab": {
          "base_uri": "https://localhost:8080/"
        },
        "id": "bI4Q76h2HvUi",
        "outputId": "e175b3f5-f87b-4d3a-a9e1-bd8065c661b9"
      },
      "source": [
        "results = model.evaluate(x_test, y_test)"
      ],
      "execution_count": 107,
      "outputs": [
        {
          "output_type": "stream",
          "text": [
            "782/782 [==============================] - 18s 23ms/step - loss: 0.4790 - accuracy: 0.8375\n"
          ],
          "name": "stdout"
        }
      ]
    },
    {
      "cell_type": "code",
      "metadata": {
        "colab": {
          "base_uri": "https://localhost:8080/"
        },
        "id": "MnXH71o-HvUi",
        "outputId": "87da8d1f-60aa-4447-c7e5-58da8373d2a8"
      },
      "source": [
        "results"
      ],
      "execution_count": 108,
      "outputs": [
        {
          "output_type": "execute_result",
          "data": {
            "text/plain": [
              "[0.47895339131355286, 0.8374800086021423]"
            ]
          },
          "metadata": {
            "tags": []
          },
          "execution_count": 108
        }
      ]
    },
    {
      "cell_type": "markdown",
      "metadata": {
        "id": "3QAszWfVHvUi"
      },
      "source": [
        "Our fairly naive approach achieves an accuracy of higher than 80%. \n",
        "With state-of-the-art approaches, one should be able to get close to 95% (we will come to this in a later exercise.)"
      ]
    },
    {
      "cell_type": "markdown",
      "metadata": {
        "id": "YSUus_LcWE9h"
      },
      "source": [
        "### <font color=\"#C70039\">Include your result table here and reflect a good test plan (see task list)</font>"
      ]
    },
    {
      "cell_type": "code",
      "metadata": {
        "id": "AOg7yawxXsjy"
      },
      "source": [
        "import numpy as np\n",
        "import pandas as pd\n",
        "import progressbar"
      ],
      "execution_count": 109,
      "outputs": []
    },
    {
      "cell_type": "code",
      "metadata": {
        "id": "07XcbdZ_YEgs"
      },
      "source": [
        "def getSamples(num: int, data: list, labels: list):\n",
        "  \"\"\"\n",
        "  This function generates a randomly chosen data subset.\n",
        "  \"\"\"\n",
        "  np.random.seed(666)\n",
        "  index = np.random.permutation(np.arange(0,len(data)))[:num]\n",
        "  dataset = []\n",
        "  labelset = []\n",
        "  for i in index:\n",
        "    dataset.append(data[i])\n",
        "    labelset.append(labels[i])\n",
        "\n",
        "  return np.array(dataset), np.array(labelset)"
      ],
      "execution_count": 110,
      "outputs": []
    },
    {
      "cell_type": "code",
      "metadata": {
        "id": "rsR85rsVXJoi"
      },
      "source": [
        "def buildModel():\n",
        "  \"\"\"\n",
        "  This function returns a freshly build model for testing purposes.\n",
        "  \"\"\"\n",
        "  model = models.Sequential()\n",
        "  model.add(layers.Dense(10000, activation='relu', input_shape=(10000,)))\n",
        "  model.add(layers.Dense(16, activation='relu'))\n",
        "  model.add(layers.Dense(16, activation='relu'))\n",
        "  model.add(layers.Dense(1, activation='sigmoid'))\n",
        "  model.compile(optimizer=optimizers.RMSprop(learning_rate=0.001),loss='binary_crossentropy',metrics=['accuracy'])\n",
        "  return model"
      ],
      "execution_count": 111,
      "outputs": []
    },
    {
      "cell_type": "code",
      "metadata": {
        "id": "SZPILgLiXnOQ"
      },
      "source": [
        "def testModel(train_data, test_data, epochs_number, batch_size, reps=1):\n",
        "  \"\"\"\n",
        "  \"\"\"\n",
        "  results = []\n",
        "  for test in range(0,reps):\n",
        "    acc=[]\n",
        "    loss=[]\n",
        "    with progressbar.ProgressBar(max_value=len(train_data)) as bar:\n",
        "      for train, test, e, b in zip(train_data, test_data, epochs_number, batch_size):\n",
        "        train_data_sample, train_labels_sample = getSamples(train, x_train, y_train)\n",
        "        test_data_sample, test_labels_sample = getSamples(test, x_test, y_test)\n",
        "\n",
        "        model = buildModel()\n",
        "        model.fit(train_data_sample, train_labels_sample, epochs=e, batch_size=b, verbose=0)\n",
        "\n",
        "        loss, acc = model.evaluate(test_data_sample, test_labels_sample, verbose=0)\n",
        "        result = {\n",
        "            'train_data' : len(train_data_sample),\n",
        "            'test_data' : len(test_data_sample),\n",
        "            'epochs_number' : e,\n",
        "            'batch_size' : b,\n",
        "            'accuracy' : acc,\n",
        "            'loss' : loss\n",
        "        }\n",
        "        results.append(result)\n",
        "\n",
        "  return results"
      ],
      "execution_count": 115,
      "outputs": []
    },
    {
      "cell_type": "markdown",
      "metadata": {
        "id": "aQWG0dxbWtyj"
      },
      "source": [
        "### 6. take less training data and rerun the network:"
      ]
    },
    {
      "cell_type": "code",
      "metadata": {
        "colab": {
          "base_uri": "https://localhost:8080/"
        },
        "id": "J7w6huvWijLw",
        "outputId": "ff717db7-135e-4a9b-9aa3-799b08c696d2"
      },
      "source": [
        "train_data = [10000, 8000, 6000, 4000, 2000]\n",
        "test_data = [10000, 10000, 10000, 10000, 10000]\n",
        "epochs_number = [4, 4, 4, 4, 4]\n",
        "batch_size = [512, 512, 512, 512, 512]\n",
        "\n",
        "result_train = testModel(train_data, test_data, epochs_number, batch_size)"
      ],
      "execution_count": 121,
      "outputs": [
        {
          "output_type": "stream",
          "text": [
            "100% (5 of 5) |##########################| Elapsed Time: 0:00:00 ETA:  00:00:00\n"
          ],
          "name": "stderr"
        }
      ]
    },
    {
      "cell_type": "code",
      "metadata": {
        "colab": {
          "base_uri": "https://localhost:8080/",
          "height": 204
        },
        "id": "TAEXE9HylviD",
        "outputId": "f9355f7f-18b5-4bf7-a68e-213ac5e10dcb"
      },
      "source": [
        "result_train = pd.DataFrame(result_train)\n",
        "result_train"
      ],
      "execution_count": 170,
      "outputs": [
        {
          "output_type": "execute_result",
          "data": {
            "text/plain": [
              "   train_data  test_data  epochs_number  batch_size  accuracy      loss\n",
              "0       10000      10000              4         512    0.8573  0.476927\n",
              "1        8000      10000              4         512    0.8608  0.383792\n",
              "2        6000      10000              4         512    0.7571  0.558049\n",
              "3        4000      10000              4         512    0.7656  0.564951\n",
              "4        2000      10000              4         512    0.7712  0.540624"
            ],
            "text/html": [
              "<div>\n",
              "<style scoped>\n",
              "    .dataframe tbody tr th:only-of-type {\n",
              "        vertical-align: middle;\n",
              "    }\n",
              "\n",
              "    .dataframe tbody tr th {\n",
              "        vertical-align: top;\n",
              "    }\n",
              "\n",
              "    .dataframe thead th {\n",
              "        text-align: right;\n",
              "    }\n",
              "</style>\n",
              "<table border=\"1\" class=\"dataframe\">\n",
              "  <thead>\n",
              "    <tr style=\"text-align: right;\">\n",
              "      <th></th>\n",
              "      <th>train_data</th>\n",
              "      <th>test_data</th>\n",
              "      <th>epochs_number</th>\n",
              "      <th>batch_size</th>\n",
              "      <th>accuracy</th>\n",
              "      <th>loss</th>\n",
              "    </tr>\n",
              "  </thead>\n",
              "  <tbody>\n",
              "    <tr>\n",
              "      <th>0</th>\n",
              "      <td>10000</td>\n",
              "      <td>10000</td>\n",
              "      <td>4</td>\n",
              "      <td>512</td>\n",
              "      <td>0.8573</td>\n",
              "      <td>0.476927</td>\n",
              "    </tr>\n",
              "    <tr>\n",
              "      <th>1</th>\n",
              "      <td>8000</td>\n",
              "      <td>10000</td>\n",
              "      <td>4</td>\n",
              "      <td>512</td>\n",
              "      <td>0.8608</td>\n",
              "      <td>0.383792</td>\n",
              "    </tr>\n",
              "    <tr>\n",
              "      <th>2</th>\n",
              "      <td>6000</td>\n",
              "      <td>10000</td>\n",
              "      <td>4</td>\n",
              "      <td>512</td>\n",
              "      <td>0.7571</td>\n",
              "      <td>0.558049</td>\n",
              "    </tr>\n",
              "    <tr>\n",
              "      <th>3</th>\n",
              "      <td>4000</td>\n",
              "      <td>10000</td>\n",
              "      <td>4</td>\n",
              "      <td>512</td>\n",
              "      <td>0.7656</td>\n",
              "      <td>0.564951</td>\n",
              "    </tr>\n",
              "    <tr>\n",
              "      <th>4</th>\n",
              "      <td>2000</td>\n",
              "      <td>10000</td>\n",
              "      <td>4</td>\n",
              "      <td>512</td>\n",
              "      <td>0.7712</td>\n",
              "      <td>0.540624</td>\n",
              "    </tr>\n",
              "  </tbody>\n",
              "</table>\n",
              "</div>"
            ]
          },
          "metadata": {
            "tags": []
          },
          "execution_count": 170
        }
      ]
    },
    {
      "cell_type": "code",
      "metadata": {
        "colab": {
          "base_uri": "https://localhost:8080/",
          "height": 389
        },
        "id": "S3mSSeW2pm5u",
        "outputId": "59810da4-fc01-4ff3-946b-152aa37ace80"
      },
      "source": [
        "result_train_plot = result_train.set_index('train_data')[['accuracy']].plot(figsize=(8,6))"
      ],
      "execution_count": 165,
      "outputs": [
        {
          "output_type": "display_data",
          "data": {
            "text/plain": [
              "<Figure size 576x432 with 1 Axes>"
            ],
            "image/png": "[encoded data removed]"
          },
          "metadata": {
            "tags": [],
            "needs_background": "light"
          }
        }
      ]
    },
    {
      "cell_type": "markdown",
      "metadata": {
        "id": "wTzv62C2W1b6"
      },
      "source": [
        "### 7. take less testing data and rerun the network:"
      ]
    },
    {
      "cell_type": "code",
      "metadata": {
        "colab": {
          "base_uri": "https://localhost:8080/"
        },
        "id": "LZs4BYuhl2Gu",
        "outputId": "e5b3fbdd-23cf-47e3-d152-76a6be801ff0"
      },
      "source": [
        "train_data = [10000, 10000, 10000, 10000, 10000] \n",
        "test_data = [10000, 8000, 6000, 4000, 2000]\n",
        "epochs_number = [4, 4, 4, 4, 4]\n",
        "batch_size = [512, 512, 512, 512, 512]\n",
        "\n",
        "result_test = testModel(train_data, test_data, epochs_number, batch_size)"
      ],
      "execution_count": 172,
      "outputs": [
        {
          "output_type": "stream",
          "text": [
            "100% (5 of 5) |##########################| Elapsed Time: 0:00:00 ETA:  00:00:00\n"
          ],
          "name": "stderr"
        }
      ]
    },
    {
      "cell_type": "code",
      "metadata": {
        "colab": {
          "base_uri": "https://localhost:8080/",
          "height": 204
        },
        "id": "Bkhm9sb_s2__",
        "outputId": "9e0dfedb-cec9-48d8-9278-3d0a9f9446f8"
      },
      "source": [
        "result_test = pd.DataFrame(result_test)\n",
        "result_test"
      ],
      "execution_count": 173,
      "outputs": [
        {
          "output_type": "execute_result",
          "data": {
            "text/plain": [
              "   train_data  test_data  epochs_number  batch_size  accuracy      loss\n",
              "0       10000      10000              4         512  0.839500  0.384811\n",
              "1       10000       8000              4         512  0.820625  0.444921\n",
              "2       10000       6000              4         512  0.879333  0.346013\n",
              "3       10000       4000              4         512  0.880500  0.332865\n",
              "4       10000       2000              4         512  0.820000  0.449246"
            ],
            "text/html": [
              "<div>\n",
              "<style scoped>\n",
              "    .dataframe tbody tr th:only-of-type {\n",
              "        vertical-align: middle;\n",
              "    }\n",
              "\n",
              "    .dataframe tbody tr th {\n",
              "        vertical-align: top;\n",
              "    }\n",
              "\n",
              "    .dataframe thead th {\n",
              "        text-align: right;\n",
              "    }\n",
              "</style>\n",
              "<table border=\"1\" class=\"dataframe\">\n",
              "  <thead>\n",
              "    <tr style=\"text-align: right;\">\n",
              "      <th></th>\n",
              "      <th>train_data</th>\n",
              "      <th>test_data</th>\n",
              "      <th>epochs_number</th>\n",
              "      <th>batch_size</th>\n",
              "      <th>accuracy</th>\n",
              "      <th>loss</th>\n",
              "    </tr>\n",
              "  </thead>\n",
              "  <tbody>\n",
              "    <tr>\n",
              "      <th>0</th>\n",
              "      <td>10000</td>\n",
              "      <td>10000</td>\n",
              "      <td>4</td>\n",
              "      <td>512</td>\n",
              "      <td>0.839500</td>\n",
              "      <td>0.384811</td>\n",
              "    </tr>\n",
              "    <tr>\n",
              "      <th>1</th>\n",
              "      <td>10000</td>\n",
              "      <td>8000</td>\n",
              "      <td>4</td>\n",
              "      <td>512</td>\n",
              "      <td>0.820625</td>\n",
              "      <td>0.444921</td>\n",
              "    </tr>\n",
              "    <tr>\n",
              "      <th>2</th>\n",
              "      <td>10000</td>\n",
              "      <td>6000</td>\n",
              "      <td>4</td>\n",
              "      <td>512</td>\n",
              "      <td>0.879333</td>\n",
              "      <td>0.346013</td>\n",
              "    </tr>\n",
              "    <tr>\n",
              "      <th>3</th>\n",
              "      <td>10000</td>\n",
              "      <td>4000</td>\n",
              "      <td>4</td>\n",
              "      <td>512</td>\n",
              "      <td>0.880500</td>\n",
              "      <td>0.332865</td>\n",
              "    </tr>\n",
              "    <tr>\n",
              "      <th>4</th>\n",
              "      <td>10000</td>\n",
              "      <td>2000</td>\n",
              "      <td>4</td>\n",
              "      <td>512</td>\n",
              "      <td>0.820000</td>\n",
              "      <td>0.449246</td>\n",
              "    </tr>\n",
              "  </tbody>\n",
              "</table>\n",
              "</div>"
            ]
          },
          "metadata": {
            "tags": []
          },
          "execution_count": 173
        }
      ]
    },
    {
      "cell_type": "code",
      "metadata": {
        "colab": {
          "base_uri": "https://localhost:8080/",
          "height": 389
        },
        "id": "2qjJ20OGs0va",
        "outputId": "64e96f5c-2034-4293-ac8c-cc34dd662d3f"
      },
      "source": [
        "result_test_plot = result_test.set_index('test_data')[['accuracy']].plot(figsize=(8,6))"
      ],
      "execution_count": 174,
      "outputs": [
        {
          "output_type": "display_data",
          "data": {
            "text/plain": [
              "<Figure size 576x432 with 1 Axes>"
            ],
            "image/png": "[encoded data removed]"
          },
          "metadata": {
            "tags": [],
            "needs_background": "light"
          }
        }
      ]
    },
    {
      "cell_type": "markdown",
      "metadata": {
        "id": "8gaFPiQxW75U"
      },
      "source": [
        "### 8. increase/decrease the number of epochs and the batch size\n",
        "#### **epochs:**"
      ]
    },
    {
      "cell_type": "code",
      "metadata": {
        "id": "oSQzMC1rmZOX"
      },
      "source": [
        "train_data = [10000, 10000, 10000, 10000, 10000, 10000, 10000] \n",
        "test_data = [10000, 10000, 10000, 10000, 10000, 10000, 10000] \n",
        "epochs_number = [1, 2, 4, 6, 10, 15, 30]\n",
        "batch_size = [512, 512, 512, 512, 512, 512, 512]\n",
        "\n",
        "result_epochs = testModel(train_data, test_data, epochs_number, batch_size)"
      ],
      "execution_count": null,
      "outputs": []
    },
    {
      "cell_type": "code",
      "metadata": {
        "id": "Kws2i9sqtZ_X"
      },
      "source": [
        "result_epochs = pd.DataFrame(result_epochs)\n",
        "result_epochs"
      ],
      "execution_count": null,
      "outputs": []
    },
    {
      "cell_type": "code",
      "metadata": {
        "id": "sgekaTXNtbA2"
      },
      "source": [
        "result_epochs_plot = result_epochs.set_index('epochs_number')[['accuracy']].plot(figsize=(8,6))"
      ],
      "execution_count": null,
      "outputs": []
    },
    {
      "cell_type": "markdown",
      "metadata": {
        "id": "W6-Wl5jVtlj1"
      },
      "source": [
        "#### **batch size:**"
      ]
    },
    {
      "cell_type": "code",
      "metadata": {
        "id": "PbwrdiP2tYO0"
      },
      "source": [
        "train_data = [10000, 10000, 10000, 10000, 10000, 10000, 10000] \n",
        "test_data = [10000, 10000, 10000, 10000, 10000, 10000, 10000] \n",
        "epochs_number = [4,4,4,4,4,4,4]\n",
        "batch_size = [32, 64, 128, 256, 512, 1024, 2048]\n",
        "\n",
        "result_batch = testModel(train_data, test_data, epochs_number, batch_size)"
      ],
      "execution_count": null,
      "outputs": []
    },
    {
      "cell_type": "code",
      "metadata": {
        "id": "LfsODfSrtdhF"
      },
      "source": [
        "result_batch = pd.DataFrame(result_batch)\n",
        "result_batch"
      ],
      "execution_count": null,
      "outputs": []
    },
    {
      "cell_type": "code",
      "metadata": {
        "id": "jNQQdUO4tcjT"
      },
      "source": [
        "result_batch_plot = result_batch.set_index('batch_size')[['accuracy']].plot(figsize=(8,6))"
      ],
      "execution_count": null,
      "outputs": []
    },
    {
      "cell_type": "markdown",
      "metadata": {
        "id": "42p_kHt0W7tB"
      },
      "source": [
        "### 9. make combinations of this according to your testplan. Make sure you combine with sense and intelligence and not just chaotically. "
      ]
    },
    {
      "cell_type": "code",
      "metadata": {
        "id": "ClDxVTu5WkH0"
      },
      "source": [
        ""
      ],
      "execution_count": null,
      "outputs": []
    },
    {
      "cell_type": "markdown",
      "metadata": {
        "id": "ZJyw1ohRvaQ7"
      },
      "source": [
        "### 10. comment your observations\n",
        "- when is the accuracy increasing / decreasing"
      ]
    },
    {
      "cell_type": "code",
      "metadata": {
        "id": "QvXn5xS9v6vH"
      },
      "source": [
        ""
      ],
      "execution_count": null,
      "outputs": []
    },
    {
      "cell_type": "markdown",
      "metadata": {
        "id": "e6jDHKPivaXj"
      },
      "source": [
        "### 11. until now there were 2 hidden layers. Try to use 1 or 3 hidden layers and see how it affects the test accuracy. Use again a little table. Describe your observations."
      ]
    },
    {
      "cell_type": "markdown",
      "metadata": {
        "id": "-3Is0ou7wlMQ"
      },
      "source": [
        "**1 Hidden Layer:**"
      ]
    },
    {
      "cell_type": "code",
      "metadata": {
        "id": "4Y75jBfRv6J0"
      },
      "source": [
        "model = models.Sequential()\n",
        "model.add(layers.Dense(10000, activation='relu', input_shape=(10000,)))\n",
        "model.add(layers.Dense(16, activation='relu'))\n",
        "model.add(layers.Dense(1, activation='sigmoid'))\n",
        "model.compile(optimizer=optimizers.RMSprop(learning_rate=0.001),loss='binary_crossentropy',metrics=['accuracy'])"
      ],
      "execution_count": null,
      "outputs": []
    },
    {
      "cell_type": "code",
      "metadata": {
        "id": "WqlawkLZw_Wo"
      },
      "source": [
        "result_1_Layer = testModel([10000], [10000], [4], [512])\n",
        "result_1_Layer = pd.DataFrame(result_1_Layer)\n",
        "result_1_Layer"
      ],
      "execution_count": null,
      "outputs": []
    },
    {
      "cell_type": "code",
      "metadata": {
        "id": "LxVtMO7YxCxb"
      },
      "source": [
        "result_1_Layer_plot = result_1_Layer.set_index('batch_size')[['accuracy']].plot(figsize=(8,6))"
      ],
      "execution_count": null,
      "outputs": []
    },
    {
      "cell_type": "markdown",
      "metadata": {
        "id": "mcEOw2MTwsEf"
      },
      "source": [
        "**2 Hidden Layer:**"
      ]
    },
    {
      "cell_type": "code",
      "metadata": {
        "id": "Jdgn9eiVwcVs"
      },
      "source": [
        "model = models.Sequential()\n",
        "model.add(layers.Dense(10000, activation='relu', input_shape=(10000,)))\n",
        "model.add(layers.Dense(16, activation='relu'))\n",
        "model.add(layers.Dense(16, activation='relu'))\n",
        "model.add(layers.Dense(1, activation='sigmoid'))\n",
        "model.compile(optimizer=optimizers.RMSprop(learning_rate=0.001),loss='binary_crossentropy',metrics=['accuracy'])"
      ],
      "execution_count": null,
      "outputs": []
    },
    {
      "cell_type": "code",
      "metadata": {
        "id": "cyRR8IXRxvxw"
      },
      "source": [
        "result_2_Layer = testModel([10000], [10000], [4], [512])\n",
        "result_2_Layer = pd.DataFrame(result_2_Layer)\n",
        "result_2_Layer"
      ],
      "execution_count": null,
      "outputs": []
    },
    {
      "cell_type": "code",
      "metadata": {
        "id": "icsvyZ5jx83-"
      },
      "source": [
        "result_2_Layer_plot = result_2_Layer.set_index('batch_size')[['accuracy']].plot(figsize=(8,6))"
      ],
      "execution_count": null,
      "outputs": []
    },
    {
      "cell_type": "markdown",
      "metadata": {
        "id": "KFv25XnhwwBo"
      },
      "source": [
        "**3 Hidden Layer:**"
      ]
    },
    {
      "cell_type": "code",
      "metadata": {
        "id": "trKylS2owcJm"
      },
      "source": [
        "model = models.Sequential()\n",
        "model.add(layers.Dense(10000, activation='relu', input_shape=(10000,)))\n",
        "model.add(layers.Dense(16, activation='relu'))\n",
        "model.add(layers.Dense(16, activation='relu'))\n",
        "model.add(layers.Dense(16, activation='relu'))\n",
        "model.add(layers.Dense(1, activation='sigmoid'))\n",
        "model.compile(optimizer=optimizers.RMSprop(learning_rate=0.001),loss='binary_crossentropy',metrics=['accuracy'])"
      ],
      "execution_count": null,
      "outputs": []
    },
    {
      "cell_type": "code",
      "metadata": {
        "id": "PqFvNJhux2gA"
      },
      "source": [
        "result_3_Layer = testModel([10000], [10000], [4], [512])\n",
        "result_3_Layer = pd.DataFrame(result_3_Layer)\n",
        "result_3_Layer"
      ],
      "execution_count": null,
      "outputs": []
    },
    {
      "cell_type": "code",
      "metadata": {
        "id": "kTNnJQAryAYD"
      },
      "source": [
        "result_3_Layer_plot = result_3_Layer.set_index('batch_size')[['accuracy']].plot(figsize=(8,6))"
      ],
      "execution_count": null,
      "outputs": []
    },
    {
      "cell_type": "markdown",
      "metadata": {
        "id": "Kd04Pp2Dvoby"
      },
      "source": [
        "### 12. Try to use layers with more hidden units or less hidden units: 32 units, 64 units, 128 units ...! What effect can you observe? "
      ]
    },
    {
      "cell_type": "code",
      "metadata": {
        "id": "wm-DAnOFv5on"
      },
      "source": [
        ""
      ],
      "execution_count": null,
      "outputs": []
    },
    {
      "cell_type": "markdown",
      "metadata": {
        "id": "OpmxtrKqvrkN"
      },
      "source": [
        "### 13. Try to use the mse loss function instead of binary_crossentropy. What effect can you observe?"
      ]
    },
    {
      "cell_type": "code",
      "metadata": {
        "id": "twDRSjADv5Nn"
      },
      "source": [
        ""
      ],
      "execution_count": null,
      "outputs": []
    },
    {
      "cell_type": "markdown",
      "metadata": {
        "id": "tmjFT7szvvWW"
      },
      "source": [
        "### 14. Try to use the tanh activation (an activation that was popular in the early days of neural networks) instead of relu. What effect can you observe?\n"
      ]
    },
    {
      "cell_type": "code",
      "metadata": {
        "id": "SPaIPb0rv4wT"
      },
      "source": [
        ""
      ],
      "execution_count": null,
      "outputs": []
    },
    {
      "cell_type": "markdown",
      "metadata": {
        "id": "rW0wRaltvz_q"
      },
      "source": [
        "---"
      ]
    },
    {
      "cell_type": "markdown",
      "metadata": {
        "id": "vSsgtivsHvUi"
      },
      "source": [
        "### using a trained network to generate predictions on new data\n",
        "\n",
        "After having trained a network, you will want to use it in a practical setting. \n",
        "You can generate the likelihood of reviews being positive by using the `predict` method:"
      ]
    },
    {
      "cell_type": "code",
      "metadata": {
        "colab": {
          "base_uri": "https://localhost:8080/"
        },
        "id": "viF5iQTsHvUi",
        "outputId": "473ef819-38bf-473a-cee1-03323abd1818"
      },
      "source": [
        "model.predict(x_test)"
      ],
      "execution_count": 35,
      "outputs": [
        {
          "output_type": "execute_result",
          "data": {
            "text/plain": [
              "array([[1.6406178e-04],\n",
              "       [1.0000000e+00],\n",
              "       [1.0000000e+00],\n",
              "       ...,\n",
              "       [2.0092048e-05],\n",
              "       [3.9458402e-05],\n",
              "       [8.1761563e-01]], dtype=float32)"
            ]
          },
          "metadata": {
            "tags": []
          },
          "execution_count": 35
        }
      ]
    },
    {
      "cell_type": "markdown",
      "metadata": {
        "id": "TlwhR4VqHvUi"
      },
      "source": [
        "Print out the first 10 and the last 10 entries.\n",
        "As you can see, the network is very confident for some samples (0.99, 0.05) but less confident for others (0.7, 0.2). \n",
        "\n",
        "----------------"
      ]
    },
    {
      "cell_type": "code",
      "metadata": {
        "id": "yh74McXNTf8-"
      },
      "source": [
        "predictions = model.predict(x_test)"
      ],
      "execution_count": 40,
      "outputs": []
    },
    {
      "cell_type": "code",
      "metadata": {
        "colab": {
          "base_uri": "https://localhost:8080/"
        },
        "id": "Sgk64ZLmTxpY",
        "outputId": "85c6d715-fa18-484f-95be-e9e72e2551ca"
      },
      "source": [
        "print(predictions[:10])\n",
        "print(predictions[-10:])\n"
      ],
      "execution_count": 47,
      "outputs": [
        {
          "output_type": "stream",
          "text": [
            "[[1.6406178e-04]\n",
            " [1.0000000e+00]\n",
            " [1.0000000e+00]\n",
            " [9.8532259e-01]\n",
            " [1.0000000e+00]\n",
            " [1.0000000e+00]\n",
            " [1.0000000e+00]\n",
            " [3.3542977e-09]\n",
            " [1.0000000e+00]\n",
            " [1.0000000e+00]]\n",
            "[[9.1878694e-01]\n",
            " [9.6189972e-16]\n",
            " [1.0000000e+00]\n",
            " [6.4169735e-02]\n",
            " [1.0000000e+00]\n",
            " [1.0000000e+00]\n",
            " [9.9994087e-01]\n",
            " [2.0092048e-05]\n",
            " [3.9458402e-05]\n",
            " [8.1761563e-01]]\n"
          ],
          "name": "stdout"
        }
      ]
    },
    {
      "cell_type": "markdown",
      "metadata": {
        "id": "Bch7fQopHvUi"
      },
      "source": [
        "---------------------------------\n",
        "## <font color=\"ce33ff\">SIDE PROJECT FOR IMPROVING YOUR PYTHON SKILLS</font>\n",
        "\n",
        "**DESCRIPTION:**\n",
        "Here is a way implemented to quickly decode one of the above used reviews back to English words"
      ]
    },
    {
      "cell_type": "code",
      "metadata": {
        "colab": {
          "base_uri": "https://localhost:8080/"
        },
        "id": "eR3TtNTmHvUi",
        "outputId": "29f93a89-4835-4c6d-dd3d-74e991b40d74"
      },
      "source": [
        "# word_index is a dictionary mapping words to an integer index\n",
        "word_index = imdb.get_word_index()\n",
        "\n",
        "# reverse it, mapping integer indices to words\n",
        "reverse_word_index = dict([(value, key) for (key, value) in word_index.items()])\n",
        "\n",
        "# decode the review; note that the indices were offset by 3\n",
        "# because 0, 1 and 2 are reserved indices for \"padding\", \"start of sequence\", and \"unknown\".\n",
        "decoded_review = ' '.join([reverse_word_index.get(i - 3, '?') for i in train_data[0]])"
      ],
      "execution_count": 36,
      "outputs": [
        {
          "output_type": "stream",
          "text": [
            "Downloading data from https://storage.googleapis.com/tensorflow/tf-keras-datasets/imdb_word_index.json\n",
            "1646592/1641221 [==============================] - 1s 1us/step\n"
          ],
          "name": "stdout"
        }
      ]
    },
    {
      "cell_type": "code",
      "metadata": {
        "colab": {
          "base_uri": "https://localhost:8080/"
        },
        "id": "Jdk5ny84HvUi",
        "outputId": "3e076a4c-8264-4971-ec05-9b88fd2fe0b7"
      },
      "source": [
        "decoded_review"
      ],
      "execution_count": 37,
      "outputs": [
        {
          "output_type": "execute_result",
          "data": {
            "text/plain": [
              "\"? this film was just brilliant casting location scenery story direction everyone's really suited the part they played and you could just imagine being there robert ? is an amazing actor and now the same being director ? father came from the same scottish island as myself so i loved the fact there was a real connection with this film the witty remarks throughout the film were great it was just brilliant so much that i bought the film as soon as it was released for ? and would recommend it to everyone to watch and the fly fishing was amazing really cried at the end it was so sad and you know what they say if you cry at a film it must have been good and this definitely was also ? to the two little boy's that played the ? of norman and paul they were just brilliant children are often left out of the ? list i think because the stars that play them all grown up are such a big profile for the whole film but these children are amazing and should be praised for what they have done don't you think the whole story was so lovely because it was true and was someone's life after all that was shared with us all\""
            ]
          },
          "metadata": {
            "tags": []
          },
          "execution_count": 37
        }
      ]
    },
    {
      "cell_type": "code",
      "metadata": {
        "id": "yx-G4VQEHvUi"
      },
      "source": [
        ""
      ],
      "execution_count": null,
      "outputs": []
    }
  ]
}